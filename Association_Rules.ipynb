{
  "cells": [
    {
      "cell_type": "markdown",
      "metadata": {
        "id": "view-in-github",
        "colab_type": "text"
      },
      "source": [
        "<a href=\"https://colab.research.google.com/github/PriyankaAdimulam12/Python_Intro/blob/main/Association_Rules.ipynb\" target=\"_parent\"><img src=\"https://colab.research.google.com/assets/colab-badge.svg\" alt=\"Open In Colab\"/></a>"
      ]
    },
    {
      "metadata": {
        "id": "V2heq4Mxg7HM"
      },
      "cell_type": "markdown",
      "source": [
        "# Import libraries"
      ]
    },
    {
      "metadata": {
        "trusted": true,
        "id": "ghKbbxkJg7HO"
      },
      "cell_type": "code",
      "source": [
        "import pandas as pd\n",
        "from mlxtend.frequent_patterns import apriori,association_rules\n",
        "from mlxtend.preprocessing import TransactionEncoder\n",
        "##conda install -c conda-forge mlxtend"
      ],
      "execution_count": null,
      "outputs": []
    },
    {
      "metadata": {
        "trusted": true,
        "id": "Bie7K8rrg7HP",
        "outputId": "495c7d00-65de-478c-b71c-af3ae2afeae1"
      },
      "cell_type": "code",
      "source": [
        "titanic = pd.read_csv(\"Titanic.csv\")\n",
        "titanic.head()"
      ],
      "execution_count": null,
      "outputs": [
        {
          "output_type": "execute_result",
          "execution_count": 6,
          "data": {
            "text/plain": "  Class Gender    Age Survived\n0   3rd   Male  Child       No\n1   3rd   Male  Child       No\n2   3rd   Male  Child       No\n3   3rd   Male  Child       No\n4   3rd   Male  Child       No",
            "text/html": "<div>\n<style scoped>\n    .dataframe tbody tr th:only-of-type {\n        vertical-align: middle;\n    }\n\n    .dataframe tbody tr th {\n        vertical-align: top;\n    }\n\n    .dataframe thead th {\n        text-align: right;\n    }\n</style>\n<table border=\"1\" class=\"dataframe\">\n  <thead>\n    <tr style=\"text-align: right;\">\n      <th></th>\n      <th>Class</th>\n      <th>Gender</th>\n      <th>Age</th>\n      <th>Survived</th>\n    </tr>\n  </thead>\n  <tbody>\n    <tr>\n      <th>0</th>\n      <td>3rd</td>\n      <td>Male</td>\n      <td>Child</td>\n      <td>No</td>\n    </tr>\n    <tr>\n      <th>1</th>\n      <td>3rd</td>\n      <td>Male</td>\n      <td>Child</td>\n      <td>No</td>\n    </tr>\n    <tr>\n      <th>2</th>\n      <td>3rd</td>\n      <td>Male</td>\n      <td>Child</td>\n      <td>No</td>\n    </tr>\n    <tr>\n      <th>3</th>\n      <td>3rd</td>\n      <td>Male</td>\n      <td>Child</td>\n      <td>No</td>\n    </tr>\n    <tr>\n      <th>4</th>\n      <td>3rd</td>\n      <td>Male</td>\n      <td>Child</td>\n      <td>No</td>\n    </tr>\n  </tbody>\n</table>\n</div>"
          },
          "metadata": {}
        }
      ]
    },
    {
      "metadata": {
        "trusted": true,
        "id": "8CRivZxog7HQ",
        "outputId": "d31ff523-4392-46f2-cd67-539c8e9c45f0"
      },
      "cell_type": "code",
      "source": [
        "titanic"
      ],
      "execution_count": null,
      "outputs": [
        {
          "output_type": "execute_result",
          "execution_count": 7,
          "data": {
            "text/plain": "     Class  Gender    Age Survived\n0      3rd    Male  Child       No\n1      3rd    Male  Child       No\n2      3rd    Male  Child       No\n3      3rd    Male  Child       No\n4      3rd    Male  Child       No\n...    ...     ...    ...      ...\n2196  Crew  Female  Adult      Yes\n2197  Crew  Female  Adult      Yes\n2198  Crew  Female  Adult      Yes\n2199  Crew  Female  Adult      Yes\n2200  Crew  Female  Adult      Yes\n\n[2201 rows x 4 columns]",
            "text/html": "<div>\n<style scoped>\n    .dataframe tbody tr th:only-of-type {\n        vertical-align: middle;\n    }\n\n    .dataframe tbody tr th {\n        vertical-align: top;\n    }\n\n    .dataframe thead th {\n        text-align: right;\n    }\n</style>\n<table border=\"1\" class=\"dataframe\">\n  <thead>\n    <tr style=\"text-align: right;\">\n      <th></th>\n      <th>Class</th>\n      <th>Gender</th>\n      <th>Age</th>\n      <th>Survived</th>\n    </tr>\n  </thead>\n  <tbody>\n    <tr>\n      <th>0</th>\n      <td>3rd</td>\n      <td>Male</td>\n      <td>Child</td>\n      <td>No</td>\n    </tr>\n    <tr>\n      <th>1</th>\n      <td>3rd</td>\n      <td>Male</td>\n      <td>Child</td>\n      <td>No</td>\n    </tr>\n    <tr>\n      <th>2</th>\n      <td>3rd</td>\n      <td>Male</td>\n      <td>Child</td>\n      <td>No</td>\n    </tr>\n    <tr>\n      <th>3</th>\n      <td>3rd</td>\n      <td>Male</td>\n      <td>Child</td>\n      <td>No</td>\n    </tr>\n    <tr>\n      <th>4</th>\n      <td>3rd</td>\n      <td>Male</td>\n      <td>Child</td>\n      <td>No</td>\n    </tr>\n    <tr>\n      <th>...</th>\n      <td>...</td>\n      <td>...</td>\n      <td>...</td>\n      <td>...</td>\n    </tr>\n    <tr>\n      <th>2196</th>\n      <td>Crew</td>\n      <td>Female</td>\n      <td>Adult</td>\n      <td>Yes</td>\n    </tr>\n    <tr>\n      <th>2197</th>\n      <td>Crew</td>\n      <td>Female</td>\n      <td>Adult</td>\n      <td>Yes</td>\n    </tr>\n    <tr>\n      <th>2198</th>\n      <td>Crew</td>\n      <td>Female</td>\n      <td>Adult</td>\n      <td>Yes</td>\n    </tr>\n    <tr>\n      <th>2199</th>\n      <td>Crew</td>\n      <td>Female</td>\n      <td>Adult</td>\n      <td>Yes</td>\n    </tr>\n    <tr>\n      <th>2200</th>\n      <td>Crew</td>\n      <td>Female</td>\n      <td>Adult</td>\n      <td>Yes</td>\n    </tr>\n  </tbody>\n</table>\n<p>2201 rows × 4 columns</p>\n</div>"
          },
          "metadata": {}
        }
      ]
    },
    {
      "metadata": {
        "id": "bNcUTNRAg7HQ"
      },
      "cell_type": "markdown",
      "source": [
        "# Pre-Processing\n",
        "As the data is not in transaction formation\n",
        "We are using transaction Encoder"
      ]
    },
    {
      "metadata": {
        "trusted": true,
        "id": "qvbalW2-g7HR",
        "outputId": "48c8529a-759b-49bd-e60d-e005987959c8"
      },
      "cell_type": "code",
      "source": [
        "df = pd.get_dummies(titanic)\n",
        "df.head()"
      ],
      "execution_count": null,
      "outputs": [
        {
          "output_type": "execute_result",
          "execution_count": 8,
          "data": {
            "text/plain": "   Class_1st  Class_2nd  Class_3rd  Class_Crew  Gender_Female  Gender_Male  \\\n0          0          0          1           0              0            1   \n1          0          0          1           0              0            1   \n2          0          0          1           0              0            1   \n3          0          0          1           0              0            1   \n4          0          0          1           0              0            1   \n\n   Age_Adult  Age_Child  Survived_No  Survived_Yes  \n0          0          1            1             0  \n1          0          1            1             0  \n2          0          1            1             0  \n3          0          1            1             0  \n4          0          1            1             0  ",
            "text/html": "<div>\n<style scoped>\n    .dataframe tbody tr th:only-of-type {\n        vertical-align: middle;\n    }\n\n    .dataframe tbody tr th {\n        vertical-align: top;\n    }\n\n    .dataframe thead th {\n        text-align: right;\n    }\n</style>\n<table border=\"1\" class=\"dataframe\">\n  <thead>\n    <tr style=\"text-align: right;\">\n      <th></th>\n      <th>Class_1st</th>\n      <th>Class_2nd</th>\n      <th>Class_3rd</th>\n      <th>Class_Crew</th>\n      <th>Gender_Female</th>\n      <th>Gender_Male</th>\n      <th>Age_Adult</th>\n      <th>Age_Child</th>\n      <th>Survived_No</th>\n      <th>Survived_Yes</th>\n    </tr>\n  </thead>\n  <tbody>\n    <tr>\n      <th>0</th>\n      <td>0</td>\n      <td>0</td>\n      <td>1</td>\n      <td>0</td>\n      <td>0</td>\n      <td>1</td>\n      <td>0</td>\n      <td>1</td>\n      <td>1</td>\n      <td>0</td>\n    </tr>\n    <tr>\n      <th>1</th>\n      <td>0</td>\n      <td>0</td>\n      <td>1</td>\n      <td>0</td>\n      <td>0</td>\n      <td>1</td>\n      <td>0</td>\n      <td>1</td>\n      <td>1</td>\n      <td>0</td>\n    </tr>\n    <tr>\n      <th>2</th>\n      <td>0</td>\n      <td>0</td>\n      <td>1</td>\n      <td>0</td>\n      <td>0</td>\n      <td>1</td>\n      <td>0</td>\n      <td>1</td>\n      <td>1</td>\n      <td>0</td>\n    </tr>\n    <tr>\n      <th>3</th>\n      <td>0</td>\n      <td>0</td>\n      <td>1</td>\n      <td>0</td>\n      <td>0</td>\n      <td>1</td>\n      <td>0</td>\n      <td>1</td>\n      <td>1</td>\n      <td>0</td>\n    </tr>\n    <tr>\n      <th>4</th>\n      <td>0</td>\n      <td>0</td>\n      <td>1</td>\n      <td>0</td>\n      <td>0</td>\n      <td>1</td>\n      <td>0</td>\n      <td>1</td>\n      <td>1</td>\n      <td>0</td>\n    </tr>\n  </tbody>\n</table>\n</div>"
          },
          "metadata": {}
        }
      ]
    },
    {
      "metadata": {
        "id": "0uWogu0-g7HR"
      },
      "cell_type": "markdown",
      "source": [
        "# Apriori Algorithm"
      ]
    },
    {
      "metadata": {
        "trusted": true,
        "id": "ShmLbniIg7HR",
        "outputId": "462d36d2-598e-4c3d-bca9-a2d02829a39d"
      },
      "cell_type": "code",
      "source": [
        "frequent_itemsets = apriori(df, min_support=0.3, use_colnames=True)\n",
        "frequent_itemsets"
      ],
      "execution_count": null,
      "outputs": [
        {
          "output_type": "execute_result",
          "execution_count": 10,
          "data": {
            "text/plain": "     support                                           itemsets\n0   0.320763                                        (Class_3rd)\n1   0.402090                                       (Class_Crew)\n2   0.786461                                      (Gender_Male)\n3   0.950477                                        (Age_Adult)\n4   0.676965                                      (Survived_No)\n5   0.323035                                     (Survived_Yes)\n6   0.391640                          (Gender_Male, Class_Crew)\n7   0.402090                            (Class_Crew, Age_Adult)\n8   0.305770                          (Survived_No, Class_Crew)\n9   0.757383                           (Gender_Male, Age_Adult)\n10  0.619718                         (Gender_Male, Survived_No)\n11  0.653339                           (Survived_No, Age_Adult)\n12  0.391640               (Gender_Male, Class_Crew, Age_Adult)\n13  0.304407             (Gender_Male, Survived_No, Class_Crew)\n14  0.305770               (Survived_No, Class_Crew, Age_Adult)\n15  0.603816              (Gender_Male, Survived_No, Age_Adult)\n16  0.304407  (Gender_Male, Survived_No, Class_Crew, Age_Adult)",
            "text/html": "<div>\n<style scoped>\n    .dataframe tbody tr th:only-of-type {\n        vertical-align: middle;\n    }\n\n    .dataframe tbody tr th {\n        vertical-align: top;\n    }\n\n    .dataframe thead th {\n        text-align: right;\n    }\n</style>\n<table border=\"1\" class=\"dataframe\">\n  <thead>\n    <tr style=\"text-align: right;\">\n      <th></th>\n      <th>support</th>\n      <th>itemsets</th>\n    </tr>\n  </thead>\n  <tbody>\n    <tr>\n      <th>0</th>\n      <td>0.320763</td>\n      <td>(Class_3rd)</td>\n    </tr>\n    <tr>\n      <th>1</th>\n      <td>0.402090</td>\n      <td>(Class_Crew)</td>\n    </tr>\n    <tr>\n      <th>2</th>\n      <td>0.786461</td>\n      <td>(Gender_Male)</td>\n    </tr>\n    <tr>\n      <th>3</th>\n      <td>0.950477</td>\n      <td>(Age_Adult)</td>\n    </tr>\n    <tr>\n      <th>4</th>\n      <td>0.676965</td>\n      <td>(Survived_No)</td>\n    </tr>\n    <tr>\n      <th>5</th>\n      <td>0.323035</td>\n      <td>(Survived_Yes)</td>\n    </tr>\n    <tr>\n      <th>6</th>\n      <td>0.391640</td>\n      <td>(Gender_Male, Class_Crew)</td>\n    </tr>\n    <tr>\n      <th>7</th>\n      <td>0.402090</td>\n      <td>(Class_Crew, Age_Adult)</td>\n    </tr>\n    <tr>\n      <th>8</th>\n      <td>0.305770</td>\n      <td>(Survived_No, Class_Crew)</td>\n    </tr>\n    <tr>\n      <th>9</th>\n      <td>0.757383</td>\n      <td>(Gender_Male, Age_Adult)</td>\n    </tr>\n    <tr>\n      <th>10</th>\n      <td>0.619718</td>\n      <td>(Gender_Male, Survived_No)</td>\n    </tr>\n    <tr>\n      <th>11</th>\n      <td>0.653339</td>\n      <td>(Survived_No, Age_Adult)</td>\n    </tr>\n    <tr>\n      <th>12</th>\n      <td>0.391640</td>\n      <td>(Gender_Male, Class_Crew, Age_Adult)</td>\n    </tr>\n    <tr>\n      <th>13</th>\n      <td>0.304407</td>\n      <td>(Gender_Male, Survived_No, Class_Crew)</td>\n    </tr>\n    <tr>\n      <th>14</th>\n      <td>0.305770</td>\n      <td>(Survived_No, Class_Crew, Age_Adult)</td>\n    </tr>\n    <tr>\n      <th>15</th>\n      <td>0.603816</td>\n      <td>(Gender_Male, Survived_No, Age_Adult)</td>\n    </tr>\n    <tr>\n      <th>16</th>\n      <td>0.304407</td>\n      <td>(Gender_Male, Survived_No, Class_Crew, Age_Adult)</td>\n    </tr>\n  </tbody>\n</table>\n</div>"
          },
          "metadata": {}
        }
      ]
    },
    {
      "metadata": {
        "trusted": true,
        "id": "nBMT3a2ag7HR",
        "outputId": "9f2555f2-502f-4536-b08d-d488b92b9f29"
      },
      "cell_type": "code",
      "source": [
        "rules = association_rules(frequent_itemsets, metric=\"lift\", min_threshold=0.7)\n",
        "rules"
      ],
      "execution_count": null,
      "outputs": [
        {
          "output_type": "execute_result",
          "execution_count": 11,
          "data": {
            "text/plain": "                               antecedents  \\\n0                            (Gender_Male)   \n1                             (Class_Crew)   \n2                             (Class_Crew)   \n3                              (Age_Adult)   \n4                            (Survived_No)   \n5                             (Class_Crew)   \n6                            (Gender_Male)   \n7                              (Age_Adult)   \n8                            (Gender_Male)   \n9                            (Survived_No)   \n10                           (Survived_No)   \n11                             (Age_Adult)   \n12               (Gender_Male, Class_Crew)   \n13                (Gender_Male, Age_Adult)   \n14                 (Class_Crew, Age_Adult)   \n15                           (Gender_Male)   \n16                            (Class_Crew)   \n17                             (Age_Adult)   \n18              (Gender_Male, Survived_No)   \n19               (Gender_Male, Class_Crew)   \n20               (Survived_No, Class_Crew)   \n21                           (Gender_Male)   \n22                           (Survived_No)   \n23                            (Class_Crew)   \n24               (Survived_No, Class_Crew)   \n25                (Survived_No, Age_Adult)   \n26                 (Class_Crew, Age_Adult)   \n27                           (Survived_No)   \n28                            (Class_Crew)   \n29                             (Age_Adult)   \n30              (Gender_Male, Survived_No)   \n31                (Gender_Male, Age_Adult)   \n32                (Survived_No, Age_Adult)   \n33                           (Gender_Male)   \n34                           (Survived_No)   \n35                             (Age_Adult)   \n36  (Gender_Male, Survived_No, Class_Crew)   \n37   (Gender_Male, Survived_No, Age_Adult)   \n38    (Gender_Male, Class_Crew, Age_Adult)   \n39    (Survived_No, Class_Crew, Age_Adult)   \n40              (Gender_Male, Survived_No)   \n41               (Gender_Male, Class_Crew)   \n42                (Gender_Male, Age_Adult)   \n43               (Survived_No, Class_Crew)   \n44                (Survived_No, Age_Adult)   \n45                 (Class_Crew, Age_Adult)   \n46                           (Gender_Male)   \n47                           (Survived_No)   \n48                            (Class_Crew)   \n49                             (Age_Adult)   \n\n                               consequents  antecedent support  \\\n0                             (Class_Crew)            0.786461   \n1                            (Gender_Male)            0.402090   \n2                              (Age_Adult)            0.402090   \n3                             (Class_Crew)            0.950477   \n4                             (Class_Crew)            0.676965   \n5                            (Survived_No)            0.402090   \n6                              (Age_Adult)            0.786461   \n7                            (Gender_Male)            0.950477   \n8                            (Survived_No)            0.786461   \n9                            (Gender_Male)            0.676965   \n10                             (Age_Adult)            0.676965   \n11                           (Survived_No)            0.950477   \n12                             (Age_Adult)            0.391640   \n13                            (Class_Crew)            0.757383   \n14                           (Gender_Male)            0.402090   \n15                 (Class_Crew, Age_Adult)            0.786461   \n16                (Gender_Male, Age_Adult)            0.402090   \n17               (Gender_Male, Class_Crew)            0.950477   \n18                            (Class_Crew)            0.619718   \n19                           (Survived_No)            0.391640   \n20                           (Gender_Male)            0.305770   \n21               (Survived_No, Class_Crew)            0.786461   \n22               (Gender_Male, Class_Crew)            0.676965   \n23              (Gender_Male, Survived_No)            0.402090   \n24                             (Age_Adult)            0.305770   \n25                            (Class_Crew)            0.653339   \n26                           (Survived_No)            0.402090   \n27                 (Class_Crew, Age_Adult)            0.676965   \n28                (Survived_No, Age_Adult)            0.402090   \n29               (Survived_No, Class_Crew)            0.950477   \n30                             (Age_Adult)            0.619718   \n31                           (Survived_No)            0.757383   \n32                           (Gender_Male)            0.653339   \n33                (Survived_No, Age_Adult)            0.786461   \n34                (Gender_Male, Age_Adult)            0.676965   \n35              (Gender_Male, Survived_No)            0.950477   \n36                             (Age_Adult)            0.304407   \n37                            (Class_Crew)            0.603816   \n38                           (Survived_No)            0.391640   \n39                           (Gender_Male)            0.305770   \n40                 (Class_Crew, Age_Adult)            0.619718   \n41                (Survived_No, Age_Adult)            0.391640   \n42               (Survived_No, Class_Crew)            0.757383   \n43                (Gender_Male, Age_Adult)            0.305770   \n44               (Gender_Male, Class_Crew)            0.653339   \n45              (Gender_Male, Survived_No)            0.402090   \n46    (Survived_No, Class_Crew, Age_Adult)            0.786461   \n47    (Gender_Male, Class_Crew, Age_Adult)            0.676965   \n48   (Gender_Male, Survived_No, Age_Adult)            0.402090   \n49  (Gender_Male, Survived_No, Class_Crew)            0.950477   \n\n    consequent support   support  confidence      lift  leverage  conviction  \n0             0.402090  0.391640    0.497978  1.238474  0.075412    1.191004  \n1             0.786461  0.391640    0.974011  1.238474  0.075412    8.216621  \n2             0.950477  0.402090    1.000000  1.052103  0.019913         inf  \n3             0.402090  0.402090    0.423040  1.052103  0.019913    1.036311  \n4             0.402090  0.305770    0.451678  1.123325  0.033569    1.090436  \n5             0.676965  0.305770    0.760452  1.123325  0.033569    1.348519  \n6             0.950477  0.757383    0.963027  1.013204  0.009870    1.339441  \n7             0.786461  0.757383    0.796845  1.013204  0.009870    1.051116  \n8             0.676965  0.619718    0.787984  1.163995  0.087312    1.523634  \n9             0.786461  0.619718    0.915436  1.163995  0.087312    2.525187  \n10            0.950477  0.653339    0.965101  1.015386  0.009900    1.419023  \n11            0.676965  0.653339    0.687380  1.015386  0.009900    1.033317  \n12            0.950477  0.391640    1.000000  1.052103  0.019395         inf  \n13            0.402090  0.391640    0.517097  1.286022  0.087104    1.238157  \n14            0.786461  0.391640    0.974011  1.238474  0.075412    8.216621  \n15            0.402090  0.391640    0.497978  1.238474  0.075412    1.191004  \n16            0.757383  0.391640    0.974011  1.286022  0.087104    9.335480  \n17            0.391640  0.391640    0.412046  1.052103  0.019395    1.034706  \n18            0.402090  0.304407    0.491202  1.221623  0.055225    1.175143  \n19            0.676965  0.304407    0.777262  1.148157  0.039280    1.450292  \n20            0.786461  0.304407    0.995542  1.265851  0.063931   47.903983  \n21            0.305770  0.304407    0.387060  1.265851  0.063931    1.132622  \n22            0.391640  0.304407    0.449664  1.148157  0.039280    1.105434  \n23            0.619718  0.304407    0.757062  1.221623  0.055225    1.565346  \n24            0.950477  0.305770    1.000000  1.052103  0.015143         inf  \n25            0.402090  0.305770    0.468011  1.163946  0.043069    1.123915  \n26            0.676965  0.305770    0.760452  1.123325  0.033569    1.348519  \n27            0.402090  0.305770    0.451678  1.123325  0.033569    1.090436  \n28            0.653339  0.305770    0.760452  1.163946  0.043069    1.447145  \n29            0.305770  0.305770    0.321702  1.052103  0.015143    1.023488  \n30            0.950477  0.603816    0.974340  1.025106  0.014788    1.929980  \n31            0.676965  0.603816    0.797241  1.177669  0.091095    1.593193  \n32            0.786461  0.603816    0.924200  1.175139  0.089991    2.817152  \n33            0.653339  0.603816    0.767764  1.175139  0.089991    1.492710  \n34            0.757383  0.603816    0.891946  1.177669  0.091095    2.245337  \n35            0.619718  0.603816    0.635277  1.025106  0.014788    1.042660  \n36            0.950477  0.304407    1.000000  1.052103  0.015075         inf  \n37            0.402090  0.304407    0.504138  1.253795  0.061619    1.205800  \n38            0.676965  0.304407    0.777262  1.148157  0.039280    1.450292  \n39            0.786461  0.304407    0.995542  1.265851  0.063931   47.903983  \n40            0.402090  0.304407    0.491202  1.221623  0.055225    1.175143  \n41            0.653339  0.304407    0.777262  1.189676  0.048533    1.556362  \n42            0.305770  0.304407    0.401920  1.314450  0.072822    1.160764  \n43            0.757383  0.304407    0.995542  1.314450  0.072822   54.427079  \n44            0.391640  0.304407    0.465925  1.189676  0.048533    1.139090  \n45            0.619718  0.304407    0.757062  1.221623  0.055225    1.565346  \n46            0.305770  0.304407    0.387060  1.265851  0.063931    1.132622  \n47            0.391640  0.304407    0.449664  1.148157  0.039280    1.105434  \n48            0.603816  0.304407    0.757062  1.253795  0.061619    1.630802  \n49            0.304407  0.304407    0.320268  1.052103  0.015075    1.023334  ",
            "text/html": "<div>\n<style scoped>\n    .dataframe tbody tr th:only-of-type {\n        vertical-align: middle;\n    }\n\n    .dataframe tbody tr th {\n        vertical-align: top;\n    }\n\n    .dataframe thead th {\n        text-align: right;\n    }\n</style>\n<table border=\"1\" class=\"dataframe\">\n  <thead>\n    <tr style=\"text-align: right;\">\n      <th></th>\n      <th>antecedents</th>\n      <th>consequents</th>\n      <th>antecedent support</th>\n      <th>consequent support</th>\n      <th>support</th>\n      <th>confidence</th>\n      <th>lift</th>\n      <th>leverage</th>\n      <th>conviction</th>\n    </tr>\n  </thead>\n  <tbody>\n    <tr>\n      <th>0</th>\n      <td>(Gender_Male)</td>\n      <td>(Class_Crew)</td>\n      <td>0.786461</td>\n      <td>0.402090</td>\n      <td>0.391640</td>\n      <td>0.497978</td>\n      <td>1.238474</td>\n      <td>0.075412</td>\n      <td>1.191004</td>\n    </tr>\n    <tr>\n      <th>1</th>\n      <td>(Class_Crew)</td>\n      <td>(Gender_Male)</td>\n      <td>0.402090</td>\n      <td>0.786461</td>\n      <td>0.391640</td>\n      <td>0.974011</td>\n      <td>1.238474</td>\n      <td>0.075412</td>\n      <td>8.216621</td>\n    </tr>\n    <tr>\n      <th>2</th>\n      <td>(Class_Crew)</td>\n      <td>(Age_Adult)</td>\n      <td>0.402090</td>\n      <td>0.950477</td>\n      <td>0.402090</td>\n      <td>1.000000</td>\n      <td>1.052103</td>\n      <td>0.019913</td>\n      <td>inf</td>\n    </tr>\n    <tr>\n      <th>3</th>\n      <td>(Age_Adult)</td>\n      <td>(Class_Crew)</td>\n      <td>0.950477</td>\n      <td>0.402090</td>\n      <td>0.402090</td>\n      <td>0.423040</td>\n      <td>1.052103</td>\n      <td>0.019913</td>\n      <td>1.036311</td>\n    </tr>\n    <tr>\n      <th>4</th>\n      <td>(Survived_No)</td>\n      <td>(Class_Crew)</td>\n      <td>0.676965</td>\n      <td>0.402090</td>\n      <td>0.305770</td>\n      <td>0.451678</td>\n      <td>1.123325</td>\n      <td>0.033569</td>\n      <td>1.090436</td>\n    </tr>\n    <tr>\n      <th>5</th>\n      <td>(Class_Crew)</td>\n      <td>(Survived_No)</td>\n      <td>0.402090</td>\n      <td>0.676965</td>\n      <td>0.305770</td>\n      <td>0.760452</td>\n      <td>1.123325</td>\n      <td>0.033569</td>\n      <td>1.348519</td>\n    </tr>\n    <tr>\n      <th>6</th>\n      <td>(Gender_Male)</td>\n      <td>(Age_Adult)</td>\n      <td>0.786461</td>\n      <td>0.950477</td>\n      <td>0.757383</td>\n      <td>0.963027</td>\n      <td>1.013204</td>\n      <td>0.009870</td>\n      <td>1.339441</td>\n    </tr>\n    <tr>\n      <th>7</th>\n      <td>(Age_Adult)</td>\n      <td>(Gender_Male)</td>\n      <td>0.950477</td>\n      <td>0.786461</td>\n      <td>0.757383</td>\n      <td>0.796845</td>\n      <td>1.013204</td>\n      <td>0.009870</td>\n      <td>1.051116</td>\n    </tr>\n    <tr>\n      <th>8</th>\n      <td>(Gender_Male)</td>\n      <td>(Survived_No)</td>\n      <td>0.786461</td>\n      <td>0.676965</td>\n      <td>0.619718</td>\n      <td>0.787984</td>\n      <td>1.163995</td>\n      <td>0.087312</td>\n      <td>1.523634</td>\n    </tr>\n    <tr>\n      <th>9</th>\n      <td>(Survived_No)</td>\n      <td>(Gender_Male)</td>\n      <td>0.676965</td>\n      <td>0.786461</td>\n      <td>0.619718</td>\n      <td>0.915436</td>\n      <td>1.163995</td>\n      <td>0.087312</td>\n      <td>2.525187</td>\n    </tr>\n    <tr>\n      <th>10</th>\n      <td>(Survived_No)</td>\n      <td>(Age_Adult)</td>\n      <td>0.676965</td>\n      <td>0.950477</td>\n      <td>0.653339</td>\n      <td>0.965101</td>\n      <td>1.015386</td>\n      <td>0.009900</td>\n      <td>1.419023</td>\n    </tr>\n    <tr>\n      <th>11</th>\n      <td>(Age_Adult)</td>\n      <td>(Survived_No)</td>\n      <td>0.950477</td>\n      <td>0.676965</td>\n      <td>0.653339</td>\n      <td>0.687380</td>\n      <td>1.015386</td>\n      <td>0.009900</td>\n      <td>1.033317</td>\n    </tr>\n    <tr>\n      <th>12</th>\n      <td>(Gender_Male, Class_Crew)</td>\n      <td>(Age_Adult)</td>\n      <td>0.391640</td>\n      <td>0.950477</td>\n      <td>0.391640</td>\n      <td>1.000000</td>\n      <td>1.052103</td>\n      <td>0.019395</td>\n      <td>inf</td>\n    </tr>\n    <tr>\n      <th>13</th>\n      <td>(Gender_Male, Age_Adult)</td>\n      <td>(Class_Crew)</td>\n      <td>0.757383</td>\n      <td>0.402090</td>\n      <td>0.391640</td>\n      <td>0.517097</td>\n      <td>1.286022</td>\n      <td>0.087104</td>\n      <td>1.238157</td>\n    </tr>\n    <tr>\n      <th>14</th>\n      <td>(Class_Crew, Age_Adult)</td>\n      <td>(Gender_Male)</td>\n      <td>0.402090</td>\n      <td>0.786461</td>\n      <td>0.391640</td>\n      <td>0.974011</td>\n      <td>1.238474</td>\n      <td>0.075412</td>\n      <td>8.216621</td>\n    </tr>\n    <tr>\n      <th>15</th>\n      <td>(Gender_Male)</td>\n      <td>(Class_Crew, Age_Adult)</td>\n      <td>0.786461</td>\n      <td>0.402090</td>\n      <td>0.391640</td>\n      <td>0.497978</td>\n      <td>1.238474</td>\n      <td>0.075412</td>\n      <td>1.191004</td>\n    </tr>\n    <tr>\n      <th>16</th>\n      <td>(Class_Crew)</td>\n      <td>(Gender_Male, Age_Adult)</td>\n      <td>0.402090</td>\n      <td>0.757383</td>\n      <td>0.391640</td>\n      <td>0.974011</td>\n      <td>1.286022</td>\n      <td>0.087104</td>\n      <td>9.335480</td>\n    </tr>\n    <tr>\n      <th>17</th>\n      <td>(Age_Adult)</td>\n      <td>(Gender_Male, Class_Crew)</td>\n      <td>0.950477</td>\n      <td>0.391640</td>\n      <td>0.391640</td>\n      <td>0.412046</td>\n      <td>1.052103</td>\n      <td>0.019395</td>\n      <td>1.034706</td>\n    </tr>\n    <tr>\n      <th>18</th>\n      <td>(Gender_Male, Survived_No)</td>\n      <td>(Class_Crew)</td>\n      <td>0.619718</td>\n      <td>0.402090</td>\n      <td>0.304407</td>\n      <td>0.491202</td>\n      <td>1.221623</td>\n      <td>0.055225</td>\n      <td>1.175143</td>\n    </tr>\n    <tr>\n      <th>19</th>\n      <td>(Gender_Male, Class_Crew)</td>\n      <td>(Survived_No)</td>\n      <td>0.391640</td>\n      <td>0.676965</td>\n      <td>0.304407</td>\n      <td>0.777262</td>\n      <td>1.148157</td>\n      <td>0.039280</td>\n      <td>1.450292</td>\n    </tr>\n    <tr>\n      <th>20</th>\n      <td>(Survived_No, Class_Crew)</td>\n      <td>(Gender_Male)</td>\n      <td>0.305770</td>\n      <td>0.786461</td>\n      <td>0.304407</td>\n      <td>0.995542</td>\n      <td>1.265851</td>\n      <td>0.063931</td>\n      <td>47.903983</td>\n    </tr>\n    <tr>\n      <th>21</th>\n      <td>(Gender_Male)</td>\n      <td>(Survived_No, Class_Crew)</td>\n      <td>0.786461</td>\n      <td>0.305770</td>\n      <td>0.304407</td>\n      <td>0.387060</td>\n      <td>1.265851</td>\n      <td>0.063931</td>\n      <td>1.132622</td>\n    </tr>\n    <tr>\n      <th>22</th>\n      <td>(Survived_No)</td>\n      <td>(Gender_Male, Class_Crew)</td>\n      <td>0.676965</td>\n      <td>0.391640</td>\n      <td>0.304407</td>\n      <td>0.449664</td>\n      <td>1.148157</td>\n      <td>0.039280</td>\n      <td>1.105434</td>\n    </tr>\n    <tr>\n      <th>23</th>\n      <td>(Class_Crew)</td>\n      <td>(Gender_Male, Survived_No)</td>\n      <td>0.402090</td>\n      <td>0.619718</td>\n      <td>0.304407</td>\n      <td>0.757062</td>\n      <td>1.221623</td>\n      <td>0.055225</td>\n      <td>1.565346</td>\n    </tr>\n    <tr>\n      <th>24</th>\n      <td>(Survived_No, Class_Crew)</td>\n      <td>(Age_Adult)</td>\n      <td>0.305770</td>\n      <td>0.950477</td>\n      <td>0.305770</td>\n      <td>1.000000</td>\n      <td>1.052103</td>\n      <td>0.015143</td>\n      <td>inf</td>\n    </tr>\n    <tr>\n      <th>25</th>\n      <td>(Survived_No, Age_Adult)</td>\n      <td>(Class_Crew)</td>\n      <td>0.653339</td>\n      <td>0.402090</td>\n      <td>0.305770</td>\n      <td>0.468011</td>\n      <td>1.163946</td>\n      <td>0.043069</td>\n      <td>1.123915</td>\n    </tr>\n    <tr>\n      <th>26</th>\n      <td>(Class_Crew, Age_Adult)</td>\n      <td>(Survived_No)</td>\n      <td>0.402090</td>\n      <td>0.676965</td>\n      <td>0.305770</td>\n      <td>0.760452</td>\n      <td>1.123325</td>\n      <td>0.033569</td>\n      <td>1.348519</td>\n    </tr>\n    <tr>\n      <th>27</th>\n      <td>(Survived_No)</td>\n      <td>(Class_Crew, Age_Adult)</td>\n      <td>0.676965</td>\n      <td>0.402090</td>\n      <td>0.305770</td>\n      <td>0.451678</td>\n      <td>1.123325</td>\n      <td>0.033569</td>\n      <td>1.090436</td>\n    </tr>\n    <tr>\n      <th>28</th>\n      <td>(Class_Crew)</td>\n      <td>(Survived_No, Age_Adult)</td>\n      <td>0.402090</td>\n      <td>0.653339</td>\n      <td>0.305770</td>\n      <td>0.760452</td>\n      <td>1.163946</td>\n      <td>0.043069</td>\n      <td>1.447145</td>\n    </tr>\n    <tr>\n      <th>29</th>\n      <td>(Age_Adult)</td>\n      <td>(Survived_No, Class_Crew)</td>\n      <td>0.950477</td>\n      <td>0.305770</td>\n      <td>0.305770</td>\n      <td>0.321702</td>\n      <td>1.052103</td>\n      <td>0.015143</td>\n      <td>1.023488</td>\n    </tr>\n    <tr>\n      <th>30</th>\n      <td>(Gender_Male, Survived_No)</td>\n      <td>(Age_Adult)</td>\n      <td>0.619718</td>\n      <td>0.950477</td>\n      <td>0.603816</td>\n      <td>0.974340</td>\n      <td>1.025106</td>\n      <td>0.014788</td>\n      <td>1.929980</td>\n    </tr>\n    <tr>\n      <th>31</th>\n      <td>(Gender_Male, Age_Adult)</td>\n      <td>(Survived_No)</td>\n      <td>0.757383</td>\n      <td>0.676965</td>\n      <td>0.603816</td>\n      <td>0.797241</td>\n      <td>1.177669</td>\n      <td>0.091095</td>\n      <td>1.593193</td>\n    </tr>\n    <tr>\n      <th>32</th>\n      <td>(Survived_No, Age_Adult)</td>\n      <td>(Gender_Male)</td>\n      <td>0.653339</td>\n      <td>0.786461</td>\n      <td>0.603816</td>\n      <td>0.924200</td>\n      <td>1.175139</td>\n      <td>0.089991</td>\n      <td>2.817152</td>\n    </tr>\n    <tr>\n      <th>33</th>\n      <td>(Gender_Male)</td>\n      <td>(Survived_No, Age_Adult)</td>\n      <td>0.786461</td>\n      <td>0.653339</td>\n      <td>0.603816</td>\n      <td>0.767764</td>\n      <td>1.175139</td>\n      <td>0.089991</td>\n      <td>1.492710</td>\n    </tr>\n    <tr>\n      <th>34</th>\n      <td>(Survived_No)</td>\n      <td>(Gender_Male, Age_Adult)</td>\n      <td>0.676965</td>\n      <td>0.757383</td>\n      <td>0.603816</td>\n      <td>0.891946</td>\n      <td>1.177669</td>\n      <td>0.091095</td>\n      <td>2.245337</td>\n    </tr>\n    <tr>\n      <th>35</th>\n      <td>(Age_Adult)</td>\n      <td>(Gender_Male, Survived_No)</td>\n      <td>0.950477</td>\n      <td>0.619718</td>\n      <td>0.603816</td>\n      <td>0.635277</td>\n      <td>1.025106</td>\n      <td>0.014788</td>\n      <td>1.042660</td>\n    </tr>\n    <tr>\n      <th>36</th>\n      <td>(Gender_Male, Survived_No, Class_Crew)</td>\n      <td>(Age_Adult)</td>\n      <td>0.304407</td>\n      <td>0.950477</td>\n      <td>0.304407</td>\n      <td>1.000000</td>\n      <td>1.052103</td>\n      <td>0.015075</td>\n      <td>inf</td>\n    </tr>\n    <tr>\n      <th>37</th>\n      <td>(Gender_Male, Survived_No, Age_Adult)</td>\n      <td>(Class_Crew)</td>\n      <td>0.603816</td>\n      <td>0.402090</td>\n      <td>0.304407</td>\n      <td>0.504138</td>\n      <td>1.253795</td>\n      <td>0.061619</td>\n      <td>1.205800</td>\n    </tr>\n    <tr>\n      <th>38</th>\n      <td>(Gender_Male, Class_Crew, Age_Adult)</td>\n      <td>(Survived_No)</td>\n      <td>0.391640</td>\n      <td>0.676965</td>\n      <td>0.304407</td>\n      <td>0.777262</td>\n      <td>1.148157</td>\n      <td>0.039280</td>\n      <td>1.450292</td>\n    </tr>\n    <tr>\n      <th>39</th>\n      <td>(Survived_No, Class_Crew, Age_Adult)</td>\n      <td>(Gender_Male)</td>\n      <td>0.305770</td>\n      <td>0.786461</td>\n      <td>0.304407</td>\n      <td>0.995542</td>\n      <td>1.265851</td>\n      <td>0.063931</td>\n      <td>47.903983</td>\n    </tr>\n    <tr>\n      <th>40</th>\n      <td>(Gender_Male, Survived_No)</td>\n      <td>(Class_Crew, Age_Adult)</td>\n      <td>0.619718</td>\n      <td>0.402090</td>\n      <td>0.304407</td>\n      <td>0.491202</td>\n      <td>1.221623</td>\n      <td>0.055225</td>\n      <td>1.175143</td>\n    </tr>\n    <tr>\n      <th>41</th>\n      <td>(Gender_Male, Class_Crew)</td>\n      <td>(Survived_No, Age_Adult)</td>\n      <td>0.391640</td>\n      <td>0.653339</td>\n      <td>0.304407</td>\n      <td>0.777262</td>\n      <td>1.189676</td>\n      <td>0.048533</td>\n      <td>1.556362</td>\n    </tr>\n    <tr>\n      <th>42</th>\n      <td>(Gender_Male, Age_Adult)</td>\n      <td>(Survived_No, Class_Crew)</td>\n      <td>0.757383</td>\n      <td>0.305770</td>\n      <td>0.304407</td>\n      <td>0.401920</td>\n      <td>1.314450</td>\n      <td>0.072822</td>\n      <td>1.160764</td>\n    </tr>\n    <tr>\n      <th>43</th>\n      <td>(Survived_No, Class_Crew)</td>\n      <td>(Gender_Male, Age_Adult)</td>\n      <td>0.305770</td>\n      <td>0.757383</td>\n      <td>0.304407</td>\n      <td>0.995542</td>\n      <td>1.314450</td>\n      <td>0.072822</td>\n      <td>54.427079</td>\n    </tr>\n    <tr>\n      <th>44</th>\n      <td>(Survived_No, Age_Adult)</td>\n      <td>(Gender_Male, Class_Crew)</td>\n      <td>0.653339</td>\n      <td>0.391640</td>\n      <td>0.304407</td>\n      <td>0.465925</td>\n      <td>1.189676</td>\n      <td>0.048533</td>\n      <td>1.139090</td>\n    </tr>\n    <tr>\n      <th>45</th>\n      <td>(Class_Crew, Age_Adult)</td>\n      <td>(Gender_Male, Survived_No)</td>\n      <td>0.402090</td>\n      <td>0.619718</td>\n      <td>0.304407</td>\n      <td>0.757062</td>\n      <td>1.221623</td>\n      <td>0.055225</td>\n      <td>1.565346</td>\n    </tr>\n    <tr>\n      <th>46</th>\n      <td>(Gender_Male)</td>\n      <td>(Survived_No, Class_Crew, Age_Adult)</td>\n      <td>0.786461</td>\n      <td>0.305770</td>\n      <td>0.304407</td>\n      <td>0.387060</td>\n      <td>1.265851</td>\n      <td>0.063931</td>\n      <td>1.132622</td>\n    </tr>\n    <tr>\n      <th>47</th>\n      <td>(Survived_No)</td>\n      <td>(Gender_Male, Class_Crew, Age_Adult)</td>\n      <td>0.676965</td>\n      <td>0.391640</td>\n      <td>0.304407</td>\n      <td>0.449664</td>\n      <td>1.148157</td>\n      <td>0.039280</td>\n      <td>1.105434</td>\n    </tr>\n    <tr>\n      <th>48</th>\n      <td>(Class_Crew)</td>\n      <td>(Gender_Male, Survived_No, Age_Adult)</td>\n      <td>0.402090</td>\n      <td>0.603816</td>\n      <td>0.304407</td>\n      <td>0.757062</td>\n      <td>1.253795</td>\n      <td>0.061619</td>\n      <td>1.630802</td>\n    </tr>\n    <tr>\n      <th>49</th>\n      <td>(Age_Adult)</td>\n      <td>(Gender_Male, Survived_No, Class_Crew)</td>\n      <td>0.950477</td>\n      <td>0.304407</td>\n      <td>0.304407</td>\n      <td>0.320268</td>\n      <td>1.052103</td>\n      <td>0.015075</td>\n      <td>1.023334</td>\n    </tr>\n  </tbody>\n</table>\n</div>"
          },
          "metadata": {}
        }
      ]
    },
    {
      "metadata": {
        "id": "XS2sSyp2g7HS"
      },
      "cell_type": "markdown",
      "source": [
        "#####  An leverage value of 0 indicates independence. Range will be [-1 1]\n",
        "A high conviction value means that the consequent is highly depending on the antecedent and range [0 inf]"
      ]
    },
    {
      "metadata": {
        "trusted": false,
        "id": "n-68z5eUg7HS"
      },
      "cell_type": "code",
      "source": [
        "rules.sort_values('lift',ascending = False)[0:20]"
      ],
      "execution_count": null,
      "outputs": []
    },
    {
      "metadata": {
        "trusted": false,
        "id": "q5-iRlLWg7HS"
      },
      "cell_type": "code",
      "source": [
        "rules[rules.lift>1]"
      ],
      "execution_count": null,
      "outputs": []
    },
    {
      "metadata": {
        "trusted": false,
        "id": "xTAoSA32g7HS"
      },
      "cell_type": "code",
      "source": [],
      "execution_count": null,
      "outputs": []
    }
  ],
  "metadata": {
    "kernelspec": {
      "name": "python3",
      "display_name": "Python 3",
      "language": "python"
    },
    "language_info": {
      "name": "python",
      "version": "3.7.6",
      "mimetype": "text/x-python",
      "codemirror_mode": {
        "name": "ipython",
        "version": 3
      },
      "pygments_lexer": "ipython3",
      "nbconvert_exporter": "python",
      "file_extension": ".py"
    },
    "gist": {
      "id": "",
      "data": {
        "description": "Documents/Excelr/Code/Association Rules.ipynb",
        "public": true
      }
    },
    "colab": {
      "provenance": [],
      "include_colab_link": true
    }
  },
  "nbformat": 4,
  "nbformat_minor": 0
}