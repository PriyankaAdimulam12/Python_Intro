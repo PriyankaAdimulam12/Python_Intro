{
  "cells": [
    {
      "cell_type": "markdown",
      "metadata": {
        "id": "view-in-github",
        "colab_type": "text"
      },
      "source": [
        "<a href=\"https://colab.research.google.com/github/PriyankaAdimulam12/Python_Intro/blob/main/PCA.ipynb\" target=\"_parent\"><img src=\"https://colab.research.google.com/assets/colab-badge.svg\" alt=\"Open In Colab\"/></a>"
      ]
    },
    {
      "metadata": {
        "trusted": true,
        "id": "e9WgLqk9Gx4m"
      },
      "cell_type": "code",
      "source": [
        "import pandas as pd\n",
        "import numpy as np\n",
        "from sklearn.decomposition import PCA\n",
        "import matplotlib.pyplot as plt\n",
        "from sklearn.preprocessing import scale"
      ],
      "execution_count": null,
      "outputs": []
    },
    {
      "metadata": {
        "trusted": true,
        "id": "sm9sLR-gGx4n",
        "outputId": "8223e8ff-f369-4f16-a72f-d9b8fcf4f533"
      },
      "cell_type": "code",
      "source": [
        "uni = pd.read_csv(\"Universities.csv\")\n",
        "uni.head()"
      ],
      "execution_count": null,
      "outputs": [
        {
          "data": {
            "text/html": "<div>\n<style scoped>\n    .dataframe tbody tr th:only-of-type {\n        vertical-align: middle;\n    }\n\n    .dataframe tbody tr th {\n        vertical-align: top;\n    }\n\n    .dataframe thead th {\n        text-align: right;\n    }\n</style>\n<table border=\"1\" class=\"dataframe\">\n  <thead>\n    <tr style=\"text-align: right;\">\n      <th></th>\n      <th>Univ</th>\n      <th>SAT</th>\n      <th>Top10</th>\n      <th>Accept</th>\n      <th>SFRatio</th>\n      <th>Expenses</th>\n      <th>GradRate</th>\n    </tr>\n  </thead>\n  <tbody>\n    <tr>\n      <th>0</th>\n      <td>Brown</td>\n      <td>1310</td>\n      <td>89</td>\n      <td>22</td>\n      <td>13</td>\n      <td>22704</td>\n      <td>94</td>\n    </tr>\n    <tr>\n      <th>1</th>\n      <td>CalTech</td>\n      <td>1415</td>\n      <td>100</td>\n      <td>25</td>\n      <td>6</td>\n      <td>63575</td>\n      <td>81</td>\n    </tr>\n    <tr>\n      <th>2</th>\n      <td>CMU</td>\n      <td>1260</td>\n      <td>62</td>\n      <td>59</td>\n      <td>9</td>\n      <td>25026</td>\n      <td>72</td>\n    </tr>\n    <tr>\n      <th>3</th>\n      <td>Columbia</td>\n      <td>1310</td>\n      <td>76</td>\n      <td>24</td>\n      <td>12</td>\n      <td>31510</td>\n      <td>88</td>\n    </tr>\n    <tr>\n      <th>4</th>\n      <td>Cornell</td>\n      <td>1280</td>\n      <td>83</td>\n      <td>33</td>\n      <td>13</td>\n      <td>21864</td>\n      <td>90</td>\n    </tr>\n  </tbody>\n</table>\n</div>",
            "text/plain": "       Univ   SAT  Top10  Accept  SFRatio  Expenses  GradRate\n0     Brown  1310     89      22       13     22704        94\n1   CalTech  1415    100      25        6     63575        81\n2       CMU  1260     62      59        9     25026        72\n3  Columbia  1310     76      24       12     31510        88\n4   Cornell  1280     83      33       13     21864        90"
          },
          "execution_count": 2,
          "metadata": {},
          "output_type": "execute_result"
        }
      ]
    },
    {
      "metadata": {
        "trusted": true,
        "id": "FPvV0PYDGx4o",
        "outputId": "68e06795-4f67-482b-c364-9c95bf32828c"
      },
      "cell_type": "code",
      "source": [
        "uni.describe()"
      ],
      "execution_count": null,
      "outputs": [
        {
          "data": {
            "text/html": "<div>\n<style scoped>\n    .dataframe tbody tr th:only-of-type {\n        vertical-align: middle;\n    }\n\n    .dataframe tbody tr th {\n        vertical-align: top;\n    }\n\n    .dataframe thead th {\n        text-align: right;\n    }\n</style>\n<table border=\"1\" class=\"dataframe\">\n  <thead>\n    <tr style=\"text-align: right;\">\n      <th></th>\n      <th>SAT</th>\n      <th>Top10</th>\n      <th>Accept</th>\n      <th>SFRatio</th>\n      <th>Expenses</th>\n      <th>GradRate</th>\n    </tr>\n  </thead>\n  <tbody>\n    <tr>\n      <th>count</th>\n      <td>25.000000</td>\n      <td>25.000000</td>\n      <td>25.000000</td>\n      <td>25.00000</td>\n      <td>25.000000</td>\n      <td>25.000000</td>\n    </tr>\n    <tr>\n      <th>mean</th>\n      <td>1266.440000</td>\n      <td>76.480000</td>\n      <td>39.200000</td>\n      <td>12.72000</td>\n      <td>27388.000000</td>\n      <td>86.720000</td>\n    </tr>\n    <tr>\n      <th>std</th>\n      <td>108.359771</td>\n      <td>19.433905</td>\n      <td>19.727308</td>\n      <td>4.06735</td>\n      <td>14424.883165</td>\n      <td>9.057778</td>\n    </tr>\n    <tr>\n      <th>min</th>\n      <td>1005.000000</td>\n      <td>28.000000</td>\n      <td>14.000000</td>\n      <td>6.00000</td>\n      <td>8704.000000</td>\n      <td>67.000000</td>\n    </tr>\n    <tr>\n      <th>25%</th>\n      <td>1240.000000</td>\n      <td>74.000000</td>\n      <td>24.000000</td>\n      <td>11.00000</td>\n      <td>15140.000000</td>\n      <td>81.000000</td>\n    </tr>\n    <tr>\n      <th>50%</th>\n      <td>1285.000000</td>\n      <td>81.000000</td>\n      <td>36.000000</td>\n      <td>12.00000</td>\n      <td>27553.000000</td>\n      <td>90.000000</td>\n    </tr>\n    <tr>\n      <th>75%</th>\n      <td>1340.000000</td>\n      <td>90.000000</td>\n      <td>50.000000</td>\n      <td>14.00000</td>\n      <td>34870.000000</td>\n      <td>94.000000</td>\n    </tr>\n    <tr>\n      <th>max</th>\n      <td>1415.000000</td>\n      <td>100.000000</td>\n      <td>90.000000</td>\n      <td>25.00000</td>\n      <td>63575.000000</td>\n      <td>97.000000</td>\n    </tr>\n  </tbody>\n</table>\n</div>",
            "text/plain": "               SAT       Top10     Accept   SFRatio      Expenses   GradRate\ncount    25.000000   25.000000  25.000000  25.00000     25.000000  25.000000\nmean   1266.440000   76.480000  39.200000  12.72000  27388.000000  86.720000\nstd     108.359771   19.433905  19.727308   4.06735  14424.883165   9.057778\nmin    1005.000000   28.000000  14.000000   6.00000   8704.000000  67.000000\n25%    1240.000000   74.000000  24.000000  11.00000  15140.000000  81.000000\n50%    1285.000000   81.000000  36.000000  12.00000  27553.000000  90.000000\n75%    1340.000000   90.000000  50.000000  14.00000  34870.000000  94.000000\nmax    1415.000000  100.000000  90.000000  25.00000  63575.000000  97.000000"
          },
          "execution_count": 17,
          "metadata": {},
          "output_type": "execute_result"
        }
      ]
    },
    {
      "metadata": {
        "trusted": true,
        "id": "RfWOEZguGx4o",
        "outputId": "223796cd-0a15-4d17-a35e-e450a73bd49c"
      },
      "cell_type": "code",
      "source": [
        "# Considering only numerical data\n",
        "uni.data = uni.iloc[:,1:]\n",
        "uni.data.head()\n",
        "# Converting into numpy array\n",
        "UNI = uni.data.values\n",
        "UNI"
      ],
      "execution_count": null,
      "outputs": [
        {
          "name": "stderr",
          "output_type": "stream",
          "text": "/opt/anaconda3/lib/python3.7/site-packages/ipykernel_launcher.py:2: UserWarning: Pandas doesn't allow columns to be created via a new attribute name - see https://pandas.pydata.org/pandas-docs/stable/indexing.html#attribute-access\n  \n"
        },
        {
          "data": {
            "text/plain": "array([[ 1310,    89,    22,    13, 22704,    94],\n       [ 1415,   100,    25,     6, 63575,    81],\n       [ 1260,    62,    59,     9, 25026,    72],\n       [ 1310,    76,    24,    12, 31510,    88],\n       [ 1280,    83,    33,    13, 21864,    90],\n       [ 1340,    89,    23,    10, 32162,    95],\n       [ 1315,    90,    30,    12, 31585,    95],\n       [ 1255,    74,    24,    12, 20126,    92],\n       [ 1400,    91,    14,    11, 39525,    97],\n       [ 1305,    75,    44,     7, 58691,    87],\n       [ 1380,    94,    30,    10, 34870,    91],\n       [ 1260,    85,    39,    11, 28052,    89],\n       [ 1255,    81,    42,    13, 15122,    94],\n       [ 1081,    38,    54,    18, 10185,    80],\n       [ 1375,    91,    14,     8, 30220,    95],\n       [ 1005,    28,    90,    19,  9066,    69],\n       [ 1360,    90,    20,    12, 36450,    93],\n       [ 1075,    49,    67,    25,  8704,    67],\n       [ 1240,    95,    40,    17, 15140,    78],\n       [ 1290,    75,    50,    13, 38380,    87],\n       [ 1180,    65,    68,    16, 15470,    85],\n       [ 1285,    80,    36,    11, 27553,    90],\n       [ 1225,    77,    44,    14, 13349,    92],\n       [ 1085,    40,    69,    15, 11857,    71],\n       [ 1375,    95,    19,    11, 43514,    96]])"
          },
          "execution_count": 3,
          "metadata": {},
          "output_type": "execute_result"
        }
      ]
    },
    {
      "metadata": {
        "trusted": true,
        "id": "WCkPk7WbGx4p"
      },
      "cell_type": "code",
      "source": [
        "# Normalizing the numerical data\n",
        "uni_normal = scale(UNI)"
      ],
      "execution_count": null,
      "outputs": []
    },
    {
      "metadata": {
        "trusted": true,
        "id": "ot6zGg0kGx4p",
        "outputId": "aafd998f-0643-4aa2-fbbe-c7e6d6646977"
      },
      "cell_type": "code",
      "source": [
        "uni_normal"
      ],
      "execution_count": null,
      "outputs": [
        {
          "data": {
            "text/plain": "array([[ 0.41028362,  0.6575195 , -0.88986682,  0.07026045, -0.33141256,\n         0.82030265],\n       [ 1.39925928,  1.23521235, -0.73465749, -1.68625071,  2.56038138,\n        -0.64452351],\n       [-0.06065717, -0.76045386,  1.02438157, -0.93346022, -0.16712136,\n        -1.65863393],\n       [ 0.41028362, -0.02520842, -0.78639393, -0.18066972,  0.29164871,\n         0.14422904],\n       [ 0.12771914,  0.34241431, -0.32076595,  0.07026045, -0.39084607,\n         0.36958691],\n       [ 0.69284809,  0.6575195 , -0.83813038, -0.68253005,  0.33778044,\n         0.93298158],\n       [ 0.4573777 ,  0.71003703, -0.47597528, -0.18066972,  0.29695528,\n         0.93298158],\n       [-0.10775125, -0.13024348, -0.78639393, -0.18066972, -0.51381683,\n         0.59494478],\n       [ 1.25797704,  0.76255456, -1.30375836, -0.43159988,  0.85874344,\n         1.15833946],\n       [ 0.36318954, -0.07772595,  0.24833493, -1.43532055,  2.21481798,\n         0.0315501 ],\n       [ 1.06960072,  0.92010716, -0.47597528, -0.68253005,  0.52938275,\n         0.48226584],\n       [-0.06065717,  0.44744937, -0.01034729, -0.43159988,  0.04698077,\n         0.25690797],\n       [-0.10775125,  0.23737924,  0.14486204,  0.07026045, -0.86787073,\n         0.82030265],\n       [-1.7466252 , -2.02087462,  0.76569936,  1.32491127, -1.21718409,\n        -0.75720245],\n       [ 1.02250664,  0.76255456, -1.30375836, -1.18439038,  0.20037583,\n         0.93298158],\n       [-2.46245521, -2.54604994,  2.6282113 ,  1.57584144, -1.29635802,\n        -1.99667073],\n       [ 0.88122441,  0.71003703, -0.9933397 , -0.18066972,  0.64117435,\n         0.70762371],\n       [-1.8031381 , -1.44318177,  1.43827311,  3.08142243, -1.32197103,\n        -2.22202861],\n       [-0.24903349,  0.97262469,  0.04138915,  1.07398111, -0.86659715,\n        -0.98256032],\n       [ 0.2219073 , -0.07772595,  0.55875358,  0.07026045,  0.77772991,\n         0.0315501 ],\n       [-0.81416244, -0.60290126,  1.49000956,  0.82305094, -0.84324827,\n        -0.19380777],\n       [ 0.17481322,  0.18486171, -0.16555662, -0.43159988,  0.01167444,\n         0.36958691],\n       [-0.39031573,  0.02730912,  0.24833493,  0.32119061, -0.99331788,\n         0.59494478],\n       [-1.70894994, -1.91583956,  1.541746  ,  0.57212078, -1.09888311,\n        -1.77131286],\n       [ 1.02250664,  0.97262469, -1.04507615, -0.43159988,  1.14098185,\n         1.04566052]])"
          },
          "execution_count": 5,
          "metadata": {},
          "output_type": "execute_result"
        }
      ]
    },
    {
      "metadata": {
        "trusted": true,
        "id": "4ILHCYJ0Gx4p"
      },
      "cell_type": "code",
      "source": [
        "pca = PCA()\n",
        "pca_values = pca.fit_transform(uni_normal)"
      ],
      "execution_count": null,
      "outputs": []
    },
    {
      "metadata": {
        "trusted": true,
        "id": "StP-bhmGGx4q",
        "outputId": "b8a07a29-7629-40cf-d728-1483c5501666"
      },
      "cell_type": "code",
      "source": [
        "pca_values"
      ],
      "execution_count": null,
      "outputs": [
        {
          "data": {
            "text/plain": "array([[-1.00987445e+00, -1.06430962e+00,  8.10663051e-02,\n         5.69506350e-02, -1.28754245e-01, -3.46496377e-02],\n       [-2.82223781e+00,  2.25904458e+00,  8.36828830e-01,\n         1.43844644e-01, -1.25961913e-01, -1.80703168e-01],\n       [ 1.11246577e+00,  1.63120889e+00, -2.66786839e-01,\n         1.07507502e+00, -1.91814148e-01,  3.45679459e-01],\n       [-7.41741217e-01, -4.21874699e-02,  6.05008649e-02,\n        -1.57208116e-01, -5.77611392e-01,  1.09163092e-01],\n       [-3.11912064e-01, -6.35243572e-01,  1.02405189e-02,\n         1.71363672e-01,  1.27261287e-02, -1.69212696e-02],\n       [-1.69669089e+00, -3.44363283e-01, -2.53407507e-01,\n         1.25643278e-02, -5.26606002e-02, -2.71661600e-02],\n       [-1.24682093e+00, -4.90983662e-01, -3.20938196e-02,\n        -2.05643780e-01,  2.93505340e-01, -7.80119838e-02],\n       [-3.38749784e-01, -7.85168589e-01, -4.93584829e-01,\n         3.98563085e-02, -5.44978619e-01, -1.55371653e-01],\n       [-2.37415013e+00, -3.86538883e-01,  1.16098392e-01,\n        -4.53365617e-01, -2.30108300e-01,  2.66983932e-01],\n       [-1.40327739e+00,  2.11951503e+00, -4.42827141e-01,\n        -6.32543273e-01,  2.30053526e-01, -2.35615124e-01],\n       [-1.72610332e+00,  8.82371161e-02,  1.70403663e-01,\n         2.60901913e-01,  2.33318380e-01,  2.38968449e-01],\n       [-4.50857480e-01, -1.11329480e-02, -1.75746046e-01,\n         2.36165626e-01,  2.63250697e-01, -3.14843521e-01],\n       [ 4.02381405e-02, -1.00920438e+00, -4.96517167e-01,\n         2.29298758e-01,  4.48031921e-01,  4.93921533e-03],\n       [ 3.23373034e+00, -3.74580487e-01, -4.95372816e-01,\n        -5.21237711e-01, -6.39294809e-01, -9.00477852e-02],\n       [-2.23626502e+00, -3.71793294e-01, -3.98993653e-01,\n         4.06966479e-01, -4.16760680e-01,  5.06186327e-02],\n       [ 5.17299212e+00,  7.79915346e-01, -3.85912331e-01,\n        -2.32211711e-01,  1.79286976e-01, -3.09046943e-02],\n       [-1.69964377e+00, -3.05597453e-01,  3.18507851e-01,\n        -2.97462682e-01, -1.63424678e-01,  1.14422592e-01],\n       [ 4.57814600e+00, -3.47591363e-01,  1.49964176e+00,\n        -4.54251714e-01, -1.91141971e-01,  1.04149297e-01],\n       [ 8.22603117e-01, -6.98906146e-01,  1.42781145e+00,\n         7.60778800e-01,  1.84260335e-01, -2.51103268e-01],\n       [-9.77621343e-02,  6.50446454e-01,  1.00508440e-01,\n        -5.00097185e-01,  4.87217823e-01,  2.19242132e-01],\n       [ 1.96318260e+00, -2.24767561e-01, -2.55881433e-01,\n        -4.84741049e-02,  8.22745655e-01,  1.52246521e-01],\n       [-5.42288939e-01, -7.95888376e-02, -3.05393475e-01,\n         1.31698758e-01,  5.27399148e-02, -3.67264440e-02],\n       [ 5.32220920e-01, -1.01716720e+00, -4.23716362e-01,\n         1.69535706e-01,  3.57813210e-01, -6.60989993e-02],\n       [ 3.54869664e+00,  7.78461666e-01, -4.49363319e-01,\n         3.23678618e-01, -3.58332564e-01, -7.74564151e-02],\n       [-2.30590032e+00, -1.17704318e-01,  2.53988661e-01,\n        -5.16183372e-01,  5.58940129e-02, -1.07932007e-02]])"
          },
          "execution_count": 23,
          "metadata": {},
          "output_type": "execute_result"
        }
      ]
    },
    {
      "metadata": {
        "trusted": true,
        "id": "kdMQgJrRGx4q"
      },
      "cell_type": "code",
      "source": [
        "pca = PCA(n_components = 6)\n",
        "pca_values = pca.fit_transform(uni_normal)"
      ],
      "execution_count": null,
      "outputs": []
    },
    {
      "metadata": {
        "trusted": true,
        "id": "KkUJ8g0EGx4q",
        "outputId": "4f21f08a-1136-47fc-f42d-ebb54fc66924"
      },
      "cell_type": "code",
      "source": [
        "# The amount of variance that each PCA explains is\n",
        "var = pca.explained_variance_ratio_\n",
        "var"
      ],
      "execution_count": null,
      "outputs": [
        {
          "data": {
            "text/plain": "array([0.76868084, 0.13113602, 0.04776031, 0.02729668, 0.0207177 ,\n       0.00440844])"
          },
          "execution_count": 9,
          "metadata": {},
          "output_type": "execute_result"
        }
      ]
    },
    {
      "metadata": {
        "trusted": true,
        "id": "DqDy-N_SGx4q",
        "outputId": "40c2b0cb-0d94-472c-ba91-538d79db1590"
      },
      "cell_type": "code",
      "source": [
        "# Cumulative variance\n",
        "var1 = np.cumsum(np.round(var,decimals = 4)*100)\n",
        "var1"
      ],
      "execution_count": null,
      "outputs": [
        {
          "data": {
            "text/plain": "array([ 76.87,  89.98,  94.76,  97.49,  99.56, 100.  ])"
          },
          "execution_count": 10,
          "metadata": {},
          "output_type": "execute_result"
        }
      ]
    },
    {
      "metadata": {
        "trusted": true,
        "id": "StGMvrmhGx4r",
        "outputId": "199be0d1-d4e4-4657-8d56-0647f7822896"
      },
      "cell_type": "code",
      "source": [
        "pca.components_"
      ],
      "execution_count": null,
      "outputs": [
        {
          "data": {
            "text/plain": "array([[-0.45774863, -0.42714437,  0.42430805,  0.39064831, -0.36252316,\n        -0.37940403],\n       [ 0.03968044, -0.19993153,  0.32089297, -0.43256441,  0.6344864 ,\n        -0.51555367],\n       [ 0.1870388 ,  0.49780855, -0.15627899,  0.60608085,  0.20474114,\n        -0.53247261],\n       [ 0.13124033,  0.37489567,  0.0612872 , -0.50739095, -0.62340055,\n        -0.43863341],\n       [ 0.02064583,  0.4820162 ,  0.8010936 ,  0.07682369,  0.07254775,\n         0.33810965],\n       [ 0.8580547 , -0.39607492,  0.21693361,  0.1720479 , -0.17376309,\n        -0.00353754]])"
          },
          "execution_count": 11,
          "metadata": {},
          "output_type": "execute_result"
        }
      ]
    },
    {
      "metadata": {
        "trusted": true,
        "id": "hh9RshAHGx4r",
        "outputId": "13663853-137f-409d-80b4-3c5e778d5fc0"
      },
      "cell_type": "code",
      "source": [
        "# Variance plot for PCA components obtained\n",
        "plt.plot(var1,color=\"red\")"
      ],
      "execution_count": null,
      "outputs": [
        {
          "data": {
            "text/plain": "[<matplotlib.lines.Line2D at 0x7ff88c6b2cd0>]"
          },
          "execution_count": 12,
          "metadata": {},
          "output_type": "execute_result"
        },
        {
          "data": {
            "image/png": "[encoded data removed]",
            "text/plain": "<Figure size 432x288 with 1 Axes>"
          },
          "metadata": {
            "needs_background": "light"
          },
          "output_type": "display_data"
        }
      ]
    },
    {
      "metadata": {
        "trusted": true,
        "id": "CNgrnniIGx4r",
        "outputId": "17e127c2-60db-4359-b54e-5380dfdac790"
      },
      "cell_type": "code",
      "source": [
        " pca_values[:,0:1]"
      ],
      "execution_count": null,
      "outputs": [
        {
          "data": {
            "text/plain": "array([[-1.00987445],\n       [-2.82223781],\n       [ 1.11246577],\n       [-0.74174122],\n       [-0.31191206],\n       [-1.69669089],\n       [-1.24682093],\n       [-0.33874978],\n       [-2.37415013],\n       [-1.40327739],\n       [-1.72610332],\n       [-0.45085748],\n       [ 0.04023814],\n       [ 3.23373034],\n       [-2.23626502],\n       [ 5.17299212],\n       [-1.69964377],\n       [ 4.578146  ],\n       [ 0.82260312],\n       [-0.09776213],\n       [ 1.9631826 ],\n       [-0.54228894],\n       [ 0.53222092],\n       [ 3.54869664],\n       [-2.30590032]])"
          },
          "execution_count": 13,
          "metadata": {},
          "output_type": "execute_result"
        }
      ]
    },
    {
      "metadata": {
        "trusted": true,
        "id": "9Fp9kK6JGx4s",
        "outputId": "08182068-160a-4974-c7cd-f00b383aab62"
      },
      "cell_type": "code",
      "source": [
        "# plot between PCA1 and PCA2\n",
        "x = pca_values[:,0:1]\n",
        "y = pca_values[:,1:2]\n",
        "#z = pca_values[:2:3]\n",
        "plt.scatter(x,y)"
      ],
      "execution_count": null,
      "outputs": [
        {
          "data": {
            "text/plain": "<matplotlib.collections.PathCollection at 0x7ff88c8fcf90>"
          },
          "execution_count": 14,
          "metadata": {},
          "output_type": "execute_result"
        },
        {
          "data": {
            "image/png": "[encoded data removed]",
            "text/plain": "<Figure size 432x288 with 1 Axes>"
          },
          "metadata": {
            "needs_background": "light"
          },
          "output_type": "display_data"
        }
      ]
    },
    {
      "metadata": {
        "trusted": true,
        "id": "kz2_ZxGPGx4s"
      },
      "cell_type": "code",
      "source": [
        "finalDf = pd.concat([pd.DataFrame(pca_values[:,0:2],columns=['pc1','pc2']), uni[['Univ']]], axis = 1)"
      ],
      "execution_count": null,
      "outputs": []
    },
    {
      "metadata": {
        "trusted": true,
        "id": "fnYQhz6wGx4s",
        "outputId": "34964a44-3ac6-4b5f-ccf7-e03a0195c7d0"
      },
      "cell_type": "code",
      "source": [
        "finalDf.head()"
      ],
      "execution_count": null,
      "outputs": [
        {
          "output_type": "execute_result",
          "execution_count": 25,
          "data": {
            "text/plain": "        pc1       pc2      Univ\n0 -1.009874 -1.064310     Brown\n1 -2.822238  2.259045   CalTech\n2  1.112466  1.631209       CMU\n3 -0.741741 -0.042187  Columbia\n4 -0.311912 -0.635244   Cornell",
            "text/html": "<div>\n<style scoped>\n    .dataframe tbody tr th:only-of-type {\n        vertical-align: middle;\n    }\n\n    .dataframe tbody tr th {\n        vertical-align: top;\n    }\n\n    .dataframe thead th {\n        text-align: right;\n    }\n</style>\n<table border=\"1\" class=\"dataframe\">\n  <thead>\n    <tr style=\"text-align: right;\">\n      <th></th>\n      <th>pc1</th>\n      <th>pc2</th>\n      <th>Univ</th>\n    </tr>\n  </thead>\n  <tbody>\n    <tr>\n      <th>0</th>\n      <td>-1.009874</td>\n      <td>-1.064310</td>\n      <td>Brown</td>\n    </tr>\n    <tr>\n      <th>1</th>\n      <td>-2.822238</td>\n      <td>2.259045</td>\n      <td>CalTech</td>\n    </tr>\n    <tr>\n      <th>2</th>\n      <td>1.112466</td>\n      <td>1.631209</td>\n      <td>CMU</td>\n    </tr>\n    <tr>\n      <th>3</th>\n      <td>-0.741741</td>\n      <td>-0.042187</td>\n      <td>Columbia</td>\n    </tr>\n    <tr>\n      <th>4</th>\n      <td>-0.311912</td>\n      <td>-0.635244</td>\n      <td>Cornell</td>\n    </tr>\n  </tbody>\n</table>\n</div>"
          },
          "metadata": {}
        }
      ]
    },
    {
      "metadata": {
        "trusted": true,
        "id": "vAk35My5Gx4s",
        "outputId": "7a473e61-416e-48ae-d2c7-6411a238ed5a"
      },
      "cell_type": "code",
      "source": [
        "import seaborn as sns\n",
        "plt.figure(figsize=(15,8))\n",
        "sns.scatterplot(data=finalDf,x='pc1',y='pc2',hue='Univ')"
      ],
      "execution_count": null,
      "outputs": [
        {
          "output_type": "execute_result",
          "execution_count": 29,
          "data": {
            "text/plain": "<matplotlib.axes._subplots.AxesSubplot at 0x7ff88eae2710>"
          },
          "metadata": {}
        },
        {
          "output_type": "display_data",
          "data": {
            "text/plain": "<Figure size 1080x576 with 1 Axes>",
            "image/png": "[encoded data removed]"
          },
          "metadata": {
            "needs_background": "light"
          }
        }
      ]
    },
    {
      "metadata": {
        "trusted": true,
        "id": "TOt0--qzGx4s"
      },
      "cell_type": "code",
      "source": [],
      "execution_count": null,
      "outputs": []
    }
  ],
  "metadata": {
    "kernelspec": {
      "name": "python3",
      "display_name": "Python 3",
      "language": "python"
    },
    "language_info": {
      "name": "python",
      "version": "3.7.6",
      "mimetype": "text/x-python",
      "codemirror_mode": {
        "name": "ipython",
        "version": 3
      },
      "pygments_lexer": "ipython3",
      "nbconvert_exporter": "python",
      "file_extension": ".py"
    },
    "gist": {
      "id": "",
      "data": {
        "description": "Documents/Excelr/Code/PCA.ipynb",
        "public": true
      }
    },
    "colab": {
      "provenance": [],
      "include_colab_link": true
    }
  },
  "nbformat": 4,
  "nbformat_minor": 0
}